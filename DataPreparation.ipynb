{
  "nbformat": 4,
  "nbformat_minor": 0,
  "metadata": {
    "colab": {
      "provenance": [],
      "collapsed_sections": [],
      "toc_visible": true,
      "authorship_tag": "ABX9TyP8rzisbOsqWG3LclssYcWh",
      "include_colab_link": true
    },
    "kernelspec": {
      "name": "python3",
      "display_name": "Python 3"
    },
    "language_info": {
      "name": "python"
    }
  },
  "cells": [
    {
      "cell_type": "markdown",
      "metadata": {
        "id": "view-in-github",
        "colab_type": "text"
      },
      "source": [
        "<a href=\"https://colab.research.google.com/github/AinaRB/2022_TempReconstructionSaoPaulo_EO_ML/blob/main/DataPreparation.ipynb\" target=\"_parent\"><img src=\"https://colab.research.google.com/assets/colab-badge.svg\" alt=\"Open In Colab\"/></a>"
      ]
    },
    {
      "cell_type": "markdown",
      "source": [
        "# Define environment"
      ],
      "metadata": {
        "id": "HUsMnBgaug2Q"
      }
    },
    {
      "cell_type": "code",
      "source": [
        "#Check whether we are driving in the drive or locally\n",
        "try:\n",
        "  from google.colab import drive\n",
        "  IN_COLAB=True\n",
        "except:\n",
        "  IN_COLAB=False\n",
        "\n",
        "if IN_COLAB:\n",
        "  print(\"We're running Colab\")"
      ],
      "metadata": {
        "colab": {
          "base_uri": "https://localhost:8080/"
        },
        "id": "UlvXPP5RryX7",
        "outputId": "4689144f-049c-4204-9023-ebe83cf99418"
      },
      "execution_count": 178,
      "outputs": [
        {
          "output_type": "stream",
          "name": "stdout",
          "text": [
            "We're running Colab\n"
          ]
        }
      ]
    },
    {
      "cell_type": "code",
      "source": [
        "!git clone git@github.com:AinaRB/2022_TempReconstructionSaoPaulo_EO_ML.git"
      ],
      "metadata": {
        "colab": {
          "base_uri": "https://localhost:8080/"
        },
        "id": "91QAhrLquiFp",
        "outputId": "d0498cff-1f90-4ccf-d0c0-1a2a5b8db0ad"
      },
      "execution_count": 195,
      "outputs": [
        {
          "output_type": "stream",
          "name": "stdout",
          "text": [
            "Cloning into '2022_TempReconstructionSaoPaulo_EO_ML'...\n",
            "Host key verification failed.\n",
            "fatal: Could not read from remote repository.\n",
            "\n",
            "Please make sure you have the correct access rights\n",
            "and the repository exists.\n"
          ]
        }
      ]
    },
    {
      "cell_type": "code",
      "source": [
        "\n",
        "# insert your desired path to work on\n",
        "import os\n",
        "from os.path import join\n",
        "project_path = \"S:\\Projects\\AinaRB_ClimateHealth\\Part2_Spatial\\Obj2_TempModelling\\scripts\\ESA_internship\\2022_TempReconstructionSaoPaulo_EO_ML\"\n",
        "project_path"
      ],
      "metadata": {
        "colab": {
          "base_uri": "https://localhost:8080/",
          "height": 35
        },
        "id": "1YrXLqMgv8l-",
        "outputId": "b1fef4f4-9f43-4f23-f066-3a9bebc5586f"
      },
      "execution_count": 180,
      "outputs": [
        {
          "output_type": "execute_result",
          "data": {
            "text/plain": [
              "'S:\\\\Projects\\\\AinaRB_ClimateHealth\\\\Part2_Spatial\\\\Obj2_TempModelling\\\\scripts\\\\ESA_internship\\x822_TempReconstructionSaoPaulo_EO_ML'"
            ],
            "application/vnd.google.colaboratory.intrinsic+json": {
              "type": "string"
            }
          },
          "metadata": {},
          "execution_count": 180
        }
      ]
    },
    {
      "cell_type": "code",
      "source": [
        "#Link code folder to python execution path\n",
        "import sys\n",
        "sys.path.append(project_path)"
      ],
      "metadata": {
        "id": "a_DVGKLKyrNV"
      },
      "execution_count": 182,
      "outputs": []
    },
    {
      "cell_type": "code",
      "source": [
        "# Detect changes in external code and to automatically update it without restarting the runtime.\n",
        "%load_ext autoreload\n",
        "%autoreload 2"
      ],
      "metadata": {
        "id": "fbmNPLmkysl9"
      },
      "execution_count": null,
      "outputs": []
    },
    {
      "cell_type": "code",
      "source": [
        "#Define plotting settings\n",
        "import matplotlib\n",
        "font = {'family':'Arial', 'size':'15', 'weight':'normal'}\n",
        "\n",
        "matplotlib.rc('font', **font)"
      ],
      "metadata": {
        "id": "wSowQLldyESc"
      },
      "execution_count": 183,
      "outputs": []
    },
    {
      "cell_type": "code",
      "source": [
        "# Define folder structure \n",
        "config = {\n",
        "    'main': 'Brazil',\n",
        "    'output': join(project_path, \"code\", \"models\"),\n",
        "    'metrics': join(project_path, \"code\", \"metrics\")\n",
        "}\n",
        "\n",
        "# List comprehension for the folder structure code\n",
        "[os.makedirs(val, exist_ok=True) for key, val in config.items()]"
      ],
      "metadata": {
        "id": "Thoc8ZtEyb56"
      },
      "execution_count": null,
      "outputs": []
    },
    {
      "cell_type": "code",
      "source": [
        "#Import libraries\n",
        "#import utils\n",
        "import matplotlib.pyplot as plt\n",
        "import numpy as np\n",
        "import pandas as pd\n",
        "import scipy.stats as st\n",
        "from sklearn.preprocessing import MinMaxScaler, StandardScaler\n",
        "from sklearn.metrics import mean_squared_error, r2_score\n",
        "from datetime import datetime\n",
        "from glob import glob\n",
        "#from config import DEP_NAMES, GROUPED_VARS, DATA_REDUCER_SETTINGS, DATA_PROCESSING_SETTINGS"
      ],
      "metadata": {
        "id": "iiagRD7nzkrY"
      },
      "execution_count": 10,
      "outputs": []
    },
    {
      "cell_type": "code",
      "source": [
        " os. getcwd()"
      ],
      "metadata": {
        "colab": {
          "base_uri": "https://localhost:8080/",
          "height": 35
        },
        "id": "ctuyzh2Tt9ne",
        "outputId": "060c8e42-fb30-48c5-8db9-cfa8e0a9d211"
      },
      "execution_count": 184,
      "outputs": [
        {
          "output_type": "execute_result",
          "data": {
            "text/plain": [
              "'/content'"
            ],
            "application/vnd.google.colaboratory.intrinsic+json": {
              "type": "string"
            }
          },
          "metadata": {},
          "execution_count": 184
        }
      ]
    },
    {
      "cell_type": "markdown",
      "source": [
        "# Import data and inspect"
      ],
      "metadata": {
        "id": "sl7z08toumaa"
      }
    },
    {
      "cell_type": "markdown",
      "source": [
        "Since we are working with Google Collab, we first need to import the libraries to browse the file we want to import from our local directory. Once that is selected, then we can read it as a panda dataframe. "
      ],
      "metadata": {
        "id": "fTA8f8Py5f9P"
      }
    },
    {
      "cell_type": "code",
      "source": [
        "#Import the data\n",
        "from google.colab import files\n",
        "uploaded = files.upload()\n"
      ],
      "metadata": {
        "colab": {
          "resources": {
            "http://localhost:8080/nbextensions/google.colab/files.js": {
              "data": "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",
              "ok": true,
              "headers": [
                [
                  "content-type",
                  "application/javascript"
                ]
              ],
              "status": 200,
              "status_text": ""
            }
          },
          "base_uri": "https://localhost:8080/",
          "height": 73
        },
        "id": "p77GqlbKz2kP",
        "outputId": "9bee55fa-a0e9-498f-ffed-0e1444cb1f9d"
      },
      "execution_count": 196,
      "outputs": [
        {
          "output_type": "display_data",
          "data": {
            "text/plain": [
              "<IPython.core.display.HTML object>"
            ],
            "text/html": [
              "\n",
              "     <input type=\"file\" id=\"files-29d7fb2e-b334-43b8-8560-b3102826d257\" name=\"files[]\" multiple disabled\n",
              "        style=\"border:none\" />\n",
              "     <output id=\"result-29d7fb2e-b334-43b8-8560-b3102826d257\">\n",
              "      Upload widget is only available when the cell has been executed in the\n",
              "      current browser session. Please rerun this cell to enable.\n",
              "      </output>\n",
              "      <script src=\"/nbextensions/google.colab/files.js\"></script> "
            ]
          },
          "metadata": {}
        },
        {
          "output_type": "stream",
          "name": "stdout",
          "text": [
            "Saving datasetHandler.py to datasetHandler.py\n"
          ]
        }
      ]
    },
    {
      "cell_type": "code",
      "source": [
        "import io\n",
        "df=pd.read_csv(io.BytesIO(uploaded['data2018_modelinput.csv']))"
      ],
      "metadata": {
        "id": "DKp_NkFt5Cns"
      },
      "execution_count": 41,
      "outputs": []
    },
    {
      "cell_type": "markdown",
      "source": [
        "Below, we explore the dataframe"
      ],
      "metadata": {
        "id": "GPdO9GTF5q7C"
      }
    },
    {
      "cell_type": "code",
      "source": [
        "df.head()"
      ],
      "metadata": {
        "colab": {
          "base_uri": "https://localhost:8080/",
          "height": 386
        },
        "id": "OEzmFTOf5tNW",
        "outputId": "9c50859b-3d64-4c14-87fc-44adcb0563a7"
      },
      "execution_count": 42,
      "outputs": [
        {
          "output_type": "execute_result",
          "data": {
            "text/plain": [
              "  station_code        date    lat    lon        source  year  month  day.x  \\\n",
              "0      1000840  2018-01-01 -23.63 -46.58  cgs_stations  2018      1      1   \n",
              "1      1000840  2018-01-02 -23.63 -46.58  cgs_stations  2018      1      2   \n",
              "2      1000840  2018-01-03 -23.63 -46.58  cgs_stations  2018      1      3   \n",
              "3      1000840  2018-01-04 -23.63 -46.58  cgs_stations  2018      1      4   \n",
              "4      1000840  2018-01-05 -23.63 -46.58  cgs_stations  2018      1      5   \n",
              "\n",
              "   temp_mean75  doy  ...  elevation_500m  slope_500m  ImprSuf_SP  \\\n",
              "0    24.326035    1  ...      743.772278    0.684851           2   \n",
              "1    24.526826    2  ...      743.772278    0.684851           2   \n",
              "2    21.867257    3  ...      743.772278    0.684851           2   \n",
              "3    21.616583    4  ...      743.772278    0.684851           2   \n",
              "4    21.909021    5  ...      743.772278    0.684851           2   \n",
              "\n",
              "   dist_to_coast  ESArivers       popdens      ndvi         bsa   sza  \\\n",
              "0      45.233009   1.509531  10224.246094  0.173255  141.360397  1668   \n",
              "1      45.233009   1.509531  10224.246094  0.173255  141.360397  1668   \n",
              "2      45.233009   1.509531  10224.246094  0.173255  141.360397  1668   \n",
              "3      45.233009   1.509531  10224.246094  0.173255  141.360397  1668   \n",
              "4      45.233009   1.509531  10224.246094  0.173255  141.360397  1668   \n",
              "\n",
              "         lst  \n",
              "0  29.140158  \n",
              "1  29.160706  \n",
              "2  28.434814  \n",
              "3  28.685966  \n",
              "4  28.808559  \n",
              "\n",
              "[5 rows x 23 columns]"
            ],
            "text/html": [
              "\n",
              "  <div id=\"df-bc04d77a-abed-4004-a387-8f90289f2066\">\n",
              "    <div class=\"colab-df-container\">\n",
              "      <div>\n",
              "<style scoped>\n",
              "    .dataframe tbody tr th:only-of-type {\n",
              "        vertical-align: middle;\n",
              "    }\n",
              "\n",
              "    .dataframe tbody tr th {\n",
              "        vertical-align: top;\n",
              "    }\n",
              "\n",
              "    .dataframe thead th {\n",
              "        text-align: right;\n",
              "    }\n",
              "</style>\n",
              "<table border=\"1\" class=\"dataframe\">\n",
              "  <thead>\n",
              "    <tr style=\"text-align: right;\">\n",
              "      <th></th>\n",
              "      <th>station_code</th>\n",
              "      <th>date</th>\n",
              "      <th>lat</th>\n",
              "      <th>lon</th>\n",
              "      <th>source</th>\n",
              "      <th>year</th>\n",
              "      <th>month</th>\n",
              "      <th>day.x</th>\n",
              "      <th>temp_mean75</th>\n",
              "      <th>doy</th>\n",
              "      <th>...</th>\n",
              "      <th>elevation_500m</th>\n",
              "      <th>slope_500m</th>\n",
              "      <th>ImprSuf_SP</th>\n",
              "      <th>dist_to_coast</th>\n",
              "      <th>ESArivers</th>\n",
              "      <th>popdens</th>\n",
              "      <th>ndvi</th>\n",
              "      <th>bsa</th>\n",
              "      <th>sza</th>\n",
              "      <th>lst</th>\n",
              "    </tr>\n",
              "  </thead>\n",
              "  <tbody>\n",
              "    <tr>\n",
              "      <th>0</th>\n",
              "      <td>1000840</td>\n",
              "      <td>2018-01-01</td>\n",
              "      <td>-23.63</td>\n",
              "      <td>-46.58</td>\n",
              "      <td>cgs_stations</td>\n",
              "      <td>2018</td>\n",
              "      <td>1</td>\n",
              "      <td>1</td>\n",
              "      <td>24.326035</td>\n",
              "      <td>1</td>\n",
              "      <td>...</td>\n",
              "      <td>743.772278</td>\n",
              "      <td>0.684851</td>\n",
              "      <td>2</td>\n",
              "      <td>45.233009</td>\n",
              "      <td>1.509531</td>\n",
              "      <td>10224.246094</td>\n",
              "      <td>0.173255</td>\n",
              "      <td>141.360397</td>\n",
              "      <td>1668</td>\n",
              "      <td>29.140158</td>\n",
              "    </tr>\n",
              "    <tr>\n",
              "      <th>1</th>\n",
              "      <td>1000840</td>\n",
              "      <td>2018-01-02</td>\n",
              "      <td>-23.63</td>\n",
              "      <td>-46.58</td>\n",
              "      <td>cgs_stations</td>\n",
              "      <td>2018</td>\n",
              "      <td>1</td>\n",
              "      <td>2</td>\n",
              "      <td>24.526826</td>\n",
              "      <td>2</td>\n",
              "      <td>...</td>\n",
              "      <td>743.772278</td>\n",
              "      <td>0.684851</td>\n",
              "      <td>2</td>\n",
              "      <td>45.233009</td>\n",
              "      <td>1.509531</td>\n",
              "      <td>10224.246094</td>\n",
              "      <td>0.173255</td>\n",
              "      <td>141.360397</td>\n",
              "      <td>1668</td>\n",
              "      <td>29.160706</td>\n",
              "    </tr>\n",
              "    <tr>\n",
              "      <th>2</th>\n",
              "      <td>1000840</td>\n",
              "      <td>2018-01-03</td>\n",
              "      <td>-23.63</td>\n",
              "      <td>-46.58</td>\n",
              "      <td>cgs_stations</td>\n",
              "      <td>2018</td>\n",
              "      <td>1</td>\n",
              "      <td>3</td>\n",
              "      <td>21.867257</td>\n",
              "      <td>3</td>\n",
              "      <td>...</td>\n",
              "      <td>743.772278</td>\n",
              "      <td>0.684851</td>\n",
              "      <td>2</td>\n",
              "      <td>45.233009</td>\n",
              "      <td>1.509531</td>\n",
              "      <td>10224.246094</td>\n",
              "      <td>0.173255</td>\n",
              "      <td>141.360397</td>\n",
              "      <td>1668</td>\n",
              "      <td>28.434814</td>\n",
              "    </tr>\n",
              "    <tr>\n",
              "      <th>3</th>\n",
              "      <td>1000840</td>\n",
              "      <td>2018-01-04</td>\n",
              "      <td>-23.63</td>\n",
              "      <td>-46.58</td>\n",
              "      <td>cgs_stations</td>\n",
              "      <td>2018</td>\n",
              "      <td>1</td>\n",
              "      <td>4</td>\n",
              "      <td>21.616583</td>\n",
              "      <td>4</td>\n",
              "      <td>...</td>\n",
              "      <td>743.772278</td>\n",
              "      <td>0.684851</td>\n",
              "      <td>2</td>\n",
              "      <td>45.233009</td>\n",
              "      <td>1.509531</td>\n",
              "      <td>10224.246094</td>\n",
              "      <td>0.173255</td>\n",
              "      <td>141.360397</td>\n",
              "      <td>1668</td>\n",
              "      <td>28.685966</td>\n",
              "    </tr>\n",
              "    <tr>\n",
              "      <th>4</th>\n",
              "      <td>1000840</td>\n",
              "      <td>2018-01-05</td>\n",
              "      <td>-23.63</td>\n",
              "      <td>-46.58</td>\n",
              "      <td>cgs_stations</td>\n",
              "      <td>2018</td>\n",
              "      <td>1</td>\n",
              "      <td>5</td>\n",
              "      <td>21.909021</td>\n",
              "      <td>5</td>\n",
              "      <td>...</td>\n",
              "      <td>743.772278</td>\n",
              "      <td>0.684851</td>\n",
              "      <td>2</td>\n",
              "      <td>45.233009</td>\n",
              "      <td>1.509531</td>\n",
              "      <td>10224.246094</td>\n",
              "      <td>0.173255</td>\n",
              "      <td>141.360397</td>\n",
              "      <td>1668</td>\n",
              "      <td>28.808559</td>\n",
              "    </tr>\n",
              "  </tbody>\n",
              "</table>\n",
              "<p>5 rows × 23 columns</p>\n",
              "</div>\n",
              "      <button class=\"colab-df-convert\" onclick=\"convertToInteractive('df-bc04d77a-abed-4004-a387-8f90289f2066')\"\n",
              "              title=\"Convert this dataframe to an interactive table.\"\n",
              "              style=\"display:none;\">\n",
              "        \n",
              "  <svg xmlns=\"http://www.w3.org/2000/svg\" height=\"24px\"viewBox=\"0 0 24 24\"\n",
              "       width=\"24px\">\n",
              "    <path d=\"M0 0h24v24H0V0z\" fill=\"none\"/>\n",
              "    <path d=\"M18.56 5.44l.94 2.06.94-2.06 2.06-.94-2.06-.94-.94-2.06-.94 2.06-2.06.94zm-11 1L8.5 8.5l.94-2.06 2.06-.94-2.06-.94L8.5 2.5l-.94 2.06-2.06.94zm10 10l.94 2.06.94-2.06 2.06-.94-2.06-.94-.94-2.06-.94 2.06-2.06.94z\"/><path d=\"M17.41 7.96l-1.37-1.37c-.4-.4-.92-.59-1.43-.59-.52 0-1.04.2-1.43.59L10.3 9.45l-7.72 7.72c-.78.78-.78 2.05 0 2.83L4 21.41c.39.39.9.59 1.41.59.51 0 1.02-.2 1.41-.59l7.78-7.78 2.81-2.81c.8-.78.8-2.07 0-2.86zM5.41 20L4 18.59l7.72-7.72 1.47 1.35L5.41 20z\"/>\n",
              "  </svg>\n",
              "      </button>\n",
              "      \n",
              "  <style>\n",
              "    .colab-df-container {\n",
              "      display:flex;\n",
              "      flex-wrap:wrap;\n",
              "      gap: 12px;\n",
              "    }\n",
              "\n",
              "    .colab-df-convert {\n",
              "      background-color: #E8F0FE;\n",
              "      border: none;\n",
              "      border-radius: 50%;\n",
              "      cursor: pointer;\n",
              "      display: none;\n",
              "      fill: #1967D2;\n",
              "      height: 32px;\n",
              "      padding: 0 0 0 0;\n",
              "      width: 32px;\n",
              "    }\n",
              "\n",
              "    .colab-df-convert:hover {\n",
              "      background-color: #E2EBFA;\n",
              "      box-shadow: 0px 1px 2px rgba(60, 64, 67, 0.3), 0px 1px 3px 1px rgba(60, 64, 67, 0.15);\n",
              "      fill: #174EA6;\n",
              "    }\n",
              "\n",
              "    [theme=dark] .colab-df-convert {\n",
              "      background-color: #3B4455;\n",
              "      fill: #D2E3FC;\n",
              "    }\n",
              "\n",
              "    [theme=dark] .colab-df-convert:hover {\n",
              "      background-color: #434B5C;\n",
              "      box-shadow: 0px 1px 3px 1px rgba(0, 0, 0, 0.15);\n",
              "      filter: drop-shadow(0px 1px 2px rgba(0, 0, 0, 0.3));\n",
              "      fill: #FFFFFF;\n",
              "    }\n",
              "  </style>\n",
              "\n",
              "      <script>\n",
              "        const buttonEl =\n",
              "          document.querySelector('#df-bc04d77a-abed-4004-a387-8f90289f2066 button.colab-df-convert');\n",
              "        buttonEl.style.display =\n",
              "          google.colab.kernel.accessAllowed ? 'block' : 'none';\n",
              "\n",
              "        async function convertToInteractive(key) {\n",
              "          const element = document.querySelector('#df-bc04d77a-abed-4004-a387-8f90289f2066');\n",
              "          const dataTable =\n",
              "            await google.colab.kernel.invokeFunction('convertToInteractive',\n",
              "                                                     [key], {});\n",
              "          if (!dataTable) return;\n",
              "\n",
              "          const docLinkHtml = 'Like what you see? Visit the ' +\n",
              "            '<a target=\"_blank\" href=https://colab.research.google.com/notebooks/data_table.ipynb>data table notebook</a>'\n",
              "            + ' to learn more about interactive tables.';\n",
              "          element.innerHTML = '';\n",
              "          dataTable['output_type'] = 'display_data';\n",
              "          await google.colab.output.renderOutput(dataTable, element);\n",
              "          const docLink = document.createElement('div');\n",
              "          docLink.innerHTML = docLinkHtml;\n",
              "          element.appendChild(docLink);\n",
              "        }\n",
              "      </script>\n",
              "    </div>\n",
              "  </div>\n",
              "  "
            ]
          },
          "metadata": {},
          "execution_count": 42
        }
      ]
    },
    {
      "cell_type": "code",
      "source": [
        "df.info()"
      ],
      "metadata": {
        "colab": {
          "base_uri": "https://localhost:8080/"
        },
        "id": "RFuxLZZk5yPm",
        "outputId": "42f42369-242a-48d9-d758-a2f2a2e8a741"
      },
      "execution_count": 43,
      "outputs": [
        {
          "output_type": "stream",
          "name": "stdout",
          "text": [
            "<class 'pandas.core.frame.DataFrame'>\n",
            "RangeIndex: 18615 entries, 0 to 18614\n",
            "Data columns (total 23 columns):\n",
            " #   Column          Non-Null Count  Dtype  \n",
            "---  ------          --------------  -----  \n",
            " 0   station_code    18615 non-null  object \n",
            " 1   date            18615 non-null  object \n",
            " 2   lat             18615 non-null  float64\n",
            " 3   lon             18615 non-null  float64\n",
            " 4   source          18615 non-null  object \n",
            " 5   year            18615 non-null  int64  \n",
            " 6   month           18615 non-null  int64  \n",
            " 7   day.x           18615 non-null  int64  \n",
            " 8   temp_mean75     18316 non-null  float64\n",
            " 9   doy             18615 non-null  int64  \n",
            " 10  daylength       18615 non-null  float64\n",
            " 11  X               18615 non-null  int64  \n",
            " 12  day.y           18615 non-null  int64  \n",
            " 13  elevation_500m  18615 non-null  float64\n",
            " 14  slope_500m      18615 non-null  float64\n",
            " 15  ImprSuf_SP      18615 non-null  int64  \n",
            " 16  dist_to_coast   18615 non-null  float64\n",
            " 17  ESArivers       18615 non-null  float64\n",
            " 18  popdens         18615 non-null  float64\n",
            " 19  ndvi            18615 non-null  float64\n",
            " 20  bsa             17245 non-null  float64\n",
            " 21  sza             18615 non-null  int64  \n",
            " 22  lst             18615 non-null  float64\n",
            "dtypes: float64(12), int64(8), object(3)\n",
            "memory usage: 3.3+ MB\n"
          ]
        }
      ]
    },
    {
      "cell_type": "code",
      "source": [
        "#Clean dataset\n",
        "df_c=df.dropna()\n",
        "df_c.info()"
      ],
      "metadata": {
        "colab": {
          "base_uri": "https://localhost:8080/"
        },
        "id": "bjo9fk3QHAoz",
        "outputId": "f4849d56-ba7c-49f2-e739-642232b639ec"
      },
      "execution_count": 82,
      "outputs": [
        {
          "output_type": "stream",
          "name": "stdout",
          "text": [
            "<class 'pandas.core.frame.DataFrame'>\n",
            "Int64Index: 16978 entries, 0 to 18614\n",
            "Data columns (total 23 columns):\n",
            " #   Column          Non-Null Count  Dtype  \n",
            "---  ------          --------------  -----  \n",
            " 0   station_code    16978 non-null  object \n",
            " 1   date            16978 non-null  object \n",
            " 2   lat             16978 non-null  float64\n",
            " 3   lon             16978 non-null  float64\n",
            " 4   source          16978 non-null  object \n",
            " 5   year            16978 non-null  int64  \n",
            " 6   month           16978 non-null  int64  \n",
            " 7   day.x           16978 non-null  int64  \n",
            " 8   temp_mean75     16978 non-null  float64\n",
            " 9   doy             16978 non-null  int64  \n",
            " 10  daylength       16978 non-null  float64\n",
            " 11  X               16978 non-null  int64  \n",
            " 12  day.y           16978 non-null  int64  \n",
            " 13  elevation_500m  16978 non-null  float64\n",
            " 14  slope_500m      16978 non-null  float64\n",
            " 15  ImprSuf_SP      16978 non-null  int64  \n",
            " 16  dist_to_coast   16978 non-null  float64\n",
            " 17  ESArivers       16978 non-null  float64\n",
            " 18  popdens         16978 non-null  float64\n",
            " 19  ndvi            16978 non-null  float64\n",
            " 20  bsa             16978 non-null  float64\n",
            " 21  sza             16978 non-null  int64  \n",
            " 22  lst             16978 non-null  float64\n",
            "dtypes: float64(12), int64(8), object(3)\n",
            "memory usage: 3.1+ MB\n"
          ]
        }
      ]
    },
    {
      "cell_type": "markdown",
      "source": [
        "# Data dictionary"
      ],
      "metadata": {
        "id": "WL0yHQ-8BLgP"
      }
    },
    {
      "cell_type": "markdown",
      "source": [
        "Below we have grouped the data in different relevant groups."
      ],
      "metadata": {
        "id": "-m-Q5TQzDA11"
      }
    },
    {
      "cell_type": "code",
      "source": [
        "VARS = {\n",
        "    'TEMP DATA':[\n",
        "        'temp_mean75'\n",
        "    ],\n",
        "    'ATMOSPHERIC DATA': [\n",
        "       # 'bsa',\n",
        "        'sza',\n",
        "        'lst'\n",
        "    ],\n",
        "     'GEO DATA': [\n",
        "        'popdens',\n",
        "        'ESArivers',\n",
        "        'slope_500m',\n",
        "        'elevation_500m',\n",
        "        'ImprSuf_SP',\n",
        "        'dist_to_coast'\n",
        "    ],\n",
        "    'TEMPORAL DATA': [\n",
        "        'daylength'\n",
        "    ]\n",
        "}"
      ],
      "metadata": {
        "id": "gbW_z6N-BJuR"
      },
      "execution_count": 127,
      "outputs": []
    },
    {
      "cell_type": "markdown",
      "source": [
        "# Data reduction and normalization"
      ],
      "metadata": {
        "id": "D_lTA8NGuo4I"
      }
    },
    {
      "cell_type": "code",
      "source": [
        "#Import libraries\n",
        "from sklearn.cross_decomposition import PLSRegression\n",
        "from sklearn.preprocessing import MinMaxScaler, StandardScaler\n",
        "from sklearn.decomposition import PCA\n",
        "import numpy as np\n"
      ],
      "metadata": {
        "id": "oA2vm0hJwOJn"
      },
      "execution_count": 1,
      "outputs": []
    },
    {
      "cell_type": "code",
      "source": [
        "#Define functions for reducing the data:\n",
        "def pca_reducer(values, ncomponents ):\n",
        "    normalized = MinMaxScaler().fit_transform(values) #This normalizes the data\n",
        "    pca = PCA(n_components = ncomponents) #This defines data reduction\n",
        "    pca.fit(normalized.T) #This performs data reduction\n",
        "\n",
        "    return  MinMaxScaler().fit_transform(pca.components_.T)\n",
        "\n",
        "def pls_reducer(values, y, ncomponents):\n",
        "    normalized_values = MinMaxScaler().fit_transform(values) #This normalizes the data\n",
        "    X = normalized_values\n",
        "    pls = PLSRegression(n_components=ncomponents)\n",
        "    pls_score = pls.fit_transform(X, y)\n",
        "\n",
        "    return MinMaxScaler().fit_transform(pls_score[0])"
      ],
      "metadata": {
        "id": "RD1Lu-PrwTQr"
      },
      "execution_count": 67,
      "outputs": []
    },
    {
      "cell_type": "markdown",
      "source": [
        "*Note: based on this it’s better to set it based on the percentage we are aiming to explain and let it select the actual number of components by itself. The suggested amount is 0.95. Source:https:\\\\www.mikulskibartosz.name\\pca-how-to-choose-the-number-of-components\\\n",
        "\n",
        " "
      ],
      "metadata": {
        "id": "Dd90-3VIw2bi"
      }
    },
    {
      "cell_type": "markdown",
      "source": [
        "The reduction and normalisation is done (a) for the response variable, in this case temperature, and (b) for all the prediction variables. The reason why we do it separetly is because the function we have defined above for the reduction embeds already the normalization. "
      ],
      "metadata": {
        "id": "p7DIXZaYDhyA"
      }
    },
    {
      "cell_type": "markdown",
      "source": [
        "## a. Normalization for temperature variable (y)\n",
        "Here we only normalize the data, no reduction is needed as we only have one variable."
      ],
      "metadata": {
        "id": "4xyDU32GDkv8"
      }
    },
    {
      "cell_type": "code",
      "source": [
        "#Extract mean temperature from dataframe and apply normalization \n",
        "temp=df_c[VARS['TEMP DATA']].values\n",
        "scaler=MinMaxScaler()\n",
        "temp_data=scaler.fit_transform(temp)"
      ],
      "metadata": {
        "id": "c7uOpbDuwbqT"
      },
      "execution_count": 128,
      "outputs": []
    },
    {
      "cell_type": "markdown",
      "source": [
        "## b. Normalization + reduction for predictor variables\n",
        "For now, we will use the PLS reduction as this not only considers the predictors but also the exposure variabel (temperature in our case). \n",
        "\n",
        "Important to remember that the n_components value should be in [1, n_features]. For example, for the atmospheric data we have 2 covariates or predictors, and so the range is [1,2] --> n_components=2"
      ],
      "metadata": {
        "id": "V3gVaRUgDppM"
      }
    },
    {
      "cell_type": "code",
      "source": [
        "# We apply the funciton we defined above and we save the results by groups\n",
        "atmospheric_data= pls_reducer(df_c[VARS['ATMOSPHERIC DATA']].values, temp_data,len(VARS['ATMOSPHERIC DATA']))\n",
        "geo_data=pls_reducer(df_c[VARS['GEO DATA']].values, temp_data, len(VARS['GEO DATA']))\n",
        "temporal_data=pls_reducer(df_c[VARS['TEMPORAL DATA']].values, temp_data, len(VARS['TEMPORAL DATA']))"
      ],
      "metadata": {
        "id": "db_zL9hkDsBm"
      },
      "execution_count": 124,
      "outputs": []
    },
    {
      "cell_type": "markdown",
      "source": [
        "# Data preparation"
      ],
      "metadata": {
        "id": "GAzaYva9v33w"
      }
    },
    {
      "cell_type": "markdown",
      "source": [
        "### 1) Create a dataframe with the reduced/normalized data\n",
        "The normalized/reduced data we have generated above is saved as an array. Here call the array elements to save them as columns in a new pd dataframe. \n"
      ],
      "metadata": {
        "id": "QyFx_-K9K56p"
      }
    },
    {
      "cell_type": "code",
      "source": [
        "basic= {'year': df_c['year'], \n",
        "        'month': df_c['month'], \n",
        "        'day': df_c['day.x'], \n",
        "        'date': df_c['date'],\n",
        "        'dep_id':df_c['station_code']}\n",
        "atmospheric = {VARS['ATMOSPHERIC DATA'][0]:atmospheric_data[:,0], \n",
        "               VARS['ATMOSPHERIC DATA'][1]:atmospheric_data[:,1]}\n",
        "geo ={VARS['GEO DATA'][0]:geo_data[:,0], \n",
        "          VARS['GEO DATA'][1]:geo_data[:,1], \n",
        "          VARS['GEO DATA'][2]:geo_data[:,2], \n",
        "          VARS['GEO DATA'][3]:geo_data[:,3],\n",
        "          VARS['GEO DATA'][4]:geo_data[:,4]}\n",
        "temporal = {VARS['TEMPORAL DATA'][0]:temporal_data[:,0]}\n",
        "temp = {VARS['TEMP DATA'][0]:temp_data[:,0]}\n",
        "\n",
        "columns={**basic, **atmospheric, **geo, **temporal, **temp}\n",
        "red_df=pd.DataFrame(columns)\n",
        "red_df.head()"
      ],
      "metadata": {
        "colab": {
          "base_uri": "https://localhost:8080/",
          "height": 337
        },
        "id": "HMcgAQILLBeN",
        "outputId": "21581ff8-2228-4d28-80a0-f5ba92415f3b"
      },
      "execution_count": 273,
      "outputs": [
        {
          "output_type": "execute_result",
          "data": {
            "text/plain": [
              "   year  month  day        date   dep_id       sza       lst   popdens  \\\n",
              "0  2018      1    1  2018-01-01  1000840  0.851713  0.525190  0.799255   \n",
              "1  2018      1    2  2018-01-02  1000840  0.852412  0.526175  0.799255   \n",
              "2  2018      1    3  2018-01-03  1000840  0.827707  0.491383  0.799255   \n",
              "3  2018      1    4  2018-01-04  1000840  0.836255  0.503421  0.799255   \n",
              "4  2018      1    5  2018-01-05  1000840  0.840427  0.509297  0.799255   \n",
              "\n",
              "   ESArivers  slope_500m  elevation_500m  ImprSuf_SP  daylength  temp_mean75  \n",
              "0   0.715779    0.266084         0.45874    0.478603   0.990767     0.647265  \n",
              "1   0.715779    0.266084         0.45874    0.478603   0.988802     0.655606  \n",
              "2   0.715779    0.266084         0.45874    0.478603   0.986654     0.545117  \n",
              "3   0.715779    0.266084         0.45874    0.478603   0.984323     0.534703  \n",
              "4   0.715779    0.266084         0.45874    0.478603   0.981813     0.546852  "
            ],
            "text/html": [
              "\n",
              "  <div id=\"df-2153a66d-8fbc-4c36-8228-8116664da79f\">\n",
              "    <div class=\"colab-df-container\">\n",
              "      <div>\n",
              "<style scoped>\n",
              "    .dataframe tbody tr th:only-of-type {\n",
              "        vertical-align: middle;\n",
              "    }\n",
              "\n",
              "    .dataframe tbody tr th {\n",
              "        vertical-align: top;\n",
              "    }\n",
              "\n",
              "    .dataframe thead th {\n",
              "        text-align: right;\n",
              "    }\n",
              "</style>\n",
              "<table border=\"1\" class=\"dataframe\">\n",
              "  <thead>\n",
              "    <tr style=\"text-align: right;\">\n",
              "      <th></th>\n",
              "      <th>year</th>\n",
              "      <th>month</th>\n",
              "      <th>day</th>\n",
              "      <th>date</th>\n",
              "      <th>dep_id</th>\n",
              "      <th>sza</th>\n",
              "      <th>lst</th>\n",
              "      <th>popdens</th>\n",
              "      <th>ESArivers</th>\n",
              "      <th>slope_500m</th>\n",
              "      <th>elevation_500m</th>\n",
              "      <th>ImprSuf_SP</th>\n",
              "      <th>daylength</th>\n",
              "      <th>temp_mean75</th>\n",
              "    </tr>\n",
              "  </thead>\n",
              "  <tbody>\n",
              "    <tr>\n",
              "      <th>0</th>\n",
              "      <td>2018</td>\n",
              "      <td>1</td>\n",
              "      <td>1</td>\n",
              "      <td>2018-01-01</td>\n",
              "      <td>1000840</td>\n",
              "      <td>0.851713</td>\n",
              "      <td>0.525190</td>\n",
              "      <td>0.799255</td>\n",
              "      <td>0.715779</td>\n",
              "      <td>0.266084</td>\n",
              "      <td>0.45874</td>\n",
              "      <td>0.478603</td>\n",
              "      <td>0.990767</td>\n",
              "      <td>0.647265</td>\n",
              "    </tr>\n",
              "    <tr>\n",
              "      <th>1</th>\n",
              "      <td>2018</td>\n",
              "      <td>1</td>\n",
              "      <td>2</td>\n",
              "      <td>2018-01-02</td>\n",
              "      <td>1000840</td>\n",
              "      <td>0.852412</td>\n",
              "      <td>0.526175</td>\n",
              "      <td>0.799255</td>\n",
              "      <td>0.715779</td>\n",
              "      <td>0.266084</td>\n",
              "      <td>0.45874</td>\n",
              "      <td>0.478603</td>\n",
              "      <td>0.988802</td>\n",
              "      <td>0.655606</td>\n",
              "    </tr>\n",
              "    <tr>\n",
              "      <th>2</th>\n",
              "      <td>2018</td>\n",
              "      <td>1</td>\n",
              "      <td>3</td>\n",
              "      <td>2018-01-03</td>\n",
              "      <td>1000840</td>\n",
              "      <td>0.827707</td>\n",
              "      <td>0.491383</td>\n",
              "      <td>0.799255</td>\n",
              "      <td>0.715779</td>\n",
              "      <td>0.266084</td>\n",
              "      <td>0.45874</td>\n",
              "      <td>0.478603</td>\n",
              "      <td>0.986654</td>\n",
              "      <td>0.545117</td>\n",
              "    </tr>\n",
              "    <tr>\n",
              "      <th>3</th>\n",
              "      <td>2018</td>\n",
              "      <td>1</td>\n",
              "      <td>4</td>\n",
              "      <td>2018-01-04</td>\n",
              "      <td>1000840</td>\n",
              "      <td>0.836255</td>\n",
              "      <td>0.503421</td>\n",
              "      <td>0.799255</td>\n",
              "      <td>0.715779</td>\n",
              "      <td>0.266084</td>\n",
              "      <td>0.45874</td>\n",
              "      <td>0.478603</td>\n",
              "      <td>0.984323</td>\n",
              "      <td>0.534703</td>\n",
              "    </tr>\n",
              "    <tr>\n",
              "      <th>4</th>\n",
              "      <td>2018</td>\n",
              "      <td>1</td>\n",
              "      <td>5</td>\n",
              "      <td>2018-01-05</td>\n",
              "      <td>1000840</td>\n",
              "      <td>0.840427</td>\n",
              "      <td>0.509297</td>\n",
              "      <td>0.799255</td>\n",
              "      <td>0.715779</td>\n",
              "      <td>0.266084</td>\n",
              "      <td>0.45874</td>\n",
              "      <td>0.478603</td>\n",
              "      <td>0.981813</td>\n",
              "      <td>0.546852</td>\n",
              "    </tr>\n",
              "  </tbody>\n",
              "</table>\n",
              "</div>\n",
              "      <button class=\"colab-df-convert\" onclick=\"convertToInteractive('df-2153a66d-8fbc-4c36-8228-8116664da79f')\"\n",
              "              title=\"Convert this dataframe to an interactive table.\"\n",
              "              style=\"display:none;\">\n",
              "        \n",
              "  <svg xmlns=\"http://www.w3.org/2000/svg\" height=\"24px\"viewBox=\"0 0 24 24\"\n",
              "       width=\"24px\">\n",
              "    <path d=\"M0 0h24v24H0V0z\" fill=\"none\"/>\n",
              "    <path d=\"M18.56 5.44l.94 2.06.94-2.06 2.06-.94-2.06-.94-.94-2.06-.94 2.06-2.06.94zm-11 1L8.5 8.5l.94-2.06 2.06-.94-2.06-.94L8.5 2.5l-.94 2.06-2.06.94zm10 10l.94 2.06.94-2.06 2.06-.94-2.06-.94-.94-2.06-.94 2.06-2.06.94z\"/><path d=\"M17.41 7.96l-1.37-1.37c-.4-.4-.92-.59-1.43-.59-.52 0-1.04.2-1.43.59L10.3 9.45l-7.72 7.72c-.78.78-.78 2.05 0 2.83L4 21.41c.39.39.9.59 1.41.59.51 0 1.02-.2 1.41-.59l7.78-7.78 2.81-2.81c.8-.78.8-2.07 0-2.86zM5.41 20L4 18.59l7.72-7.72 1.47 1.35L5.41 20z\"/>\n",
              "  </svg>\n",
              "      </button>\n",
              "      \n",
              "  <style>\n",
              "    .colab-df-container {\n",
              "      display:flex;\n",
              "      flex-wrap:wrap;\n",
              "      gap: 12px;\n",
              "    }\n",
              "\n",
              "    .colab-df-convert {\n",
              "      background-color: #E8F0FE;\n",
              "      border: none;\n",
              "      border-radius: 50%;\n",
              "      cursor: pointer;\n",
              "      display: none;\n",
              "      fill: #1967D2;\n",
              "      height: 32px;\n",
              "      padding: 0 0 0 0;\n",
              "      width: 32px;\n",
              "    }\n",
              "\n",
              "    .colab-df-convert:hover {\n",
              "      background-color: #E2EBFA;\n",
              "      box-shadow: 0px 1px 2px rgba(60, 64, 67, 0.3), 0px 1px 3px 1px rgba(60, 64, 67, 0.15);\n",
              "      fill: #174EA6;\n",
              "    }\n",
              "\n",
              "    [theme=dark] .colab-df-convert {\n",
              "      background-color: #3B4455;\n",
              "      fill: #D2E3FC;\n",
              "    }\n",
              "\n",
              "    [theme=dark] .colab-df-convert:hover {\n",
              "      background-color: #434B5C;\n",
              "      box-shadow: 0px 1px 3px 1px rgba(0, 0, 0, 0.15);\n",
              "      filter: drop-shadow(0px 1px 2px rgba(0, 0, 0, 0.3));\n",
              "      fill: #FFFFFF;\n",
              "    }\n",
              "  </style>\n",
              "\n",
              "      <script>\n",
              "        const buttonEl =\n",
              "          document.querySelector('#df-2153a66d-8fbc-4c36-8228-8116664da79f button.colab-df-convert');\n",
              "        buttonEl.style.display =\n",
              "          google.colab.kernel.accessAllowed ? 'block' : 'none';\n",
              "\n",
              "        async function convertToInteractive(key) {\n",
              "          const element = document.querySelector('#df-2153a66d-8fbc-4c36-8228-8116664da79f');\n",
              "          const dataTable =\n",
              "            await google.colab.kernel.invokeFunction('convertToInteractive',\n",
              "                                                     [key], {});\n",
              "          if (!dataTable) return;\n",
              "\n",
              "          const docLinkHtml = 'Like what you see? Visit the ' +\n",
              "            '<a target=\"_blank\" href=https://colab.research.google.com/notebooks/data_table.ipynb>data table notebook</a>'\n",
              "            + ' to learn more about interactive tables.';\n",
              "          element.innerHTML = '';\n",
              "          dataTable['output_type'] = 'display_data';\n",
              "          await google.colab.output.renderOutput(dataTable, element);\n",
              "          const docLink = document.createElement('div');\n",
              "          docLink.innerHTML = docLinkHtml;\n",
              "          element.appendChild(docLink);\n",
              "        }\n",
              "      </script>\n",
              "    </div>\n",
              "  </div>\n",
              "  "
            ]
          },
          "metadata": {},
          "execution_count": 273
        }
      ]
    },
    {
      "cell_type": "code",
      "source": [
        "len(df_c)"
      ],
      "metadata": {
        "colab": {
          "base_uri": "https://localhost:8080/"
        },
        "id": "TZZk45qzRzzQ",
        "outputId": "576d7f74-2ee5-406f-f69b-ae391dd62e24"
      },
      "execution_count": 207,
      "outputs": [
        {
          "output_type": "execute_result",
          "data": {
            "text/plain": [
              "16978"
            ]
          },
          "metadata": {},
          "execution_count": 207
        }
      ]
    },
    {
      "cell_type": "markdown",
      "source": [
        "### 2) Create training and validation dataframes"
      ],
      "metadata": {
        "id": "jcclxGNxufdd"
      }
    },
    {
      "cell_type": "markdown",
      "source": [
        "The entire underlying premise of ML is to find an algorithm that can explain as well as possible the underlying relationships between our covariates and response variable in order to produce predictions with the minimum possible error. For us to be able to test the performance of the model, we need a validation dataset. \n",
        "\n",
        "There are several ways to split the data in training and validation sets. A basic one we can start with for time series is to set aside the last couple of years of our time series or a 30% data. As a starting point, here we will use the last 100 observations (approximately 30% of 365 days)\n",
        "\n",
        "Useful resources:\n",
        " > Numpy array: https://jalammar.github.io/visual-numpy/"
      ],
      "metadata": {
        "id": "fPSPNkzrOtwx"
      }
    },
    {
      "cell_type": "code",
      "source": [
        "#Define the date corersponding to the -30% data\n",
        "from datetime import datetime\n",
        "from datetime import timedelta\n",
        "# Subtract 10 days from a given datetime object\n",
        "dtObj = datetime.strptime(max(red_df['date']), '%Y-%m-%d')\n",
        "n = round(365*0.3)\n",
        "past_date = dtObj - timedelta(days=n)\n",
        "past_date"
      ],
      "metadata": {
        "id": "V6tZDCADuH_S",
        "colab": {
          "base_uri": "https://localhost:8080/"
        },
        "outputId": "c724ddbc-5ded-460a-af22-6de5a49a9200"
      },
      "execution_count": 215,
      "outputs": [
        {
          "output_type": "execute_result",
          "data": {
            "text/plain": [
              "datetime.datetime(2018, 9, 12, 0, 0)"
            ]
          },
          "metadata": {},
          "execution_count": 215
        }
      ]
    },
    {
      "cell_type": "code",
      "source": [
        "#Create training and validation datasets\n",
        "training_df = red_df[pd.to_datetime(red_df['date']) <= past_date].drop('date', axis=1)\n",
        "validation_df = red_df[pd.to_datetime(red_df['date']) > past_date].drop('date', axis=1)"
      ],
      "metadata": {
        "id": "dgJJ24ggTB-e"
      },
      "execution_count": 224,
      "outputs": []
    },
    {
      "cell_type": "markdown",
      "source": [
        "ATTENTION: In Alessandro's code there is an overlaping time (both datasets contain 2016). Is this done on purpose?\n",
        "\n",
        "ATTENTION 2: As we only use one year, we are loosing information on the seasonality by cutting 3 months from the time series. This will likely affect the learning and validaton. I shoudl be using 2 years minimum. "
      ],
      "metadata": {
        "id": "uXTocPN7UeJB"
      }
    },
    {
      "cell_type": "code",
      "source": [
        "training_df.head()"
      ],
      "metadata": {
        "colab": {
          "base_uri": "https://localhost:8080/",
          "height": 206
        },
        "id": "v5WQROnJUk4u",
        "outputId": "7144f893-c7aa-4595-ba95-f5d735dd6773"
      },
      "execution_count": 274,
      "outputs": [
        {
          "output_type": "execute_result",
          "data": {
            "text/plain": [
              "   year  month  day   dep_id       sza       lst   popdens  ESArivers  \\\n",
              "0  2018      1    1  1000840  0.851713  0.525190  0.799255   0.715779   \n",
              "1  2018      1    2  1000840  0.852412  0.526175  0.799255   0.715779   \n",
              "2  2018      1    3  1000840  0.827707  0.491383  0.799255   0.715779   \n",
              "3  2018      1    4  1000840  0.836255  0.503421  0.799255   0.715779   \n",
              "4  2018      1    5  1000840  0.840427  0.509297  0.799255   0.715779   \n",
              "\n",
              "   slope_500m  elevation_500m  ImprSuf_SP  daylength  temp_mean75  \n",
              "0    0.266084         0.45874    0.478603   0.990767     0.647265  \n",
              "1    0.266084         0.45874    0.478603   0.988802     0.655606  \n",
              "2    0.266084         0.45874    0.478603   0.986654     0.545117  \n",
              "3    0.266084         0.45874    0.478603   0.984323     0.534703  \n",
              "4    0.266084         0.45874    0.478603   0.981813     0.546852  "
            ],
            "text/html": [
              "\n",
              "  <div id=\"df-bd322a44-0fdf-436d-9fdc-854302c61869\">\n",
              "    <div class=\"colab-df-container\">\n",
              "      <div>\n",
              "<style scoped>\n",
              "    .dataframe tbody tr th:only-of-type {\n",
              "        vertical-align: middle;\n",
              "    }\n",
              "\n",
              "    .dataframe tbody tr th {\n",
              "        vertical-align: top;\n",
              "    }\n",
              "\n",
              "    .dataframe thead th {\n",
              "        text-align: right;\n",
              "    }\n",
              "</style>\n",
              "<table border=\"1\" class=\"dataframe\">\n",
              "  <thead>\n",
              "    <tr style=\"text-align: right;\">\n",
              "      <th></th>\n",
              "      <th>year</th>\n",
              "      <th>month</th>\n",
              "      <th>day</th>\n",
              "      <th>dep_id</th>\n",
              "      <th>sza</th>\n",
              "      <th>lst</th>\n",
              "      <th>popdens</th>\n",
              "      <th>ESArivers</th>\n",
              "      <th>slope_500m</th>\n",
              "      <th>elevation_500m</th>\n",
              "      <th>ImprSuf_SP</th>\n",
              "      <th>daylength</th>\n",
              "      <th>temp_mean75</th>\n",
              "    </tr>\n",
              "  </thead>\n",
              "  <tbody>\n",
              "    <tr>\n",
              "      <th>0</th>\n",
              "      <td>2018</td>\n",
              "      <td>1</td>\n",
              "      <td>1</td>\n",
              "      <td>1000840</td>\n",
              "      <td>0.851713</td>\n",
              "      <td>0.525190</td>\n",
              "      <td>0.799255</td>\n",
              "      <td>0.715779</td>\n",
              "      <td>0.266084</td>\n",
              "      <td>0.45874</td>\n",
              "      <td>0.478603</td>\n",
              "      <td>0.990767</td>\n",
              "      <td>0.647265</td>\n",
              "    </tr>\n",
              "    <tr>\n",
              "      <th>1</th>\n",
              "      <td>2018</td>\n",
              "      <td>1</td>\n",
              "      <td>2</td>\n",
              "      <td>1000840</td>\n",
              "      <td>0.852412</td>\n",
              "      <td>0.526175</td>\n",
              "      <td>0.799255</td>\n",
              "      <td>0.715779</td>\n",
              "      <td>0.266084</td>\n",
              "      <td>0.45874</td>\n",
              "      <td>0.478603</td>\n",
              "      <td>0.988802</td>\n",
              "      <td>0.655606</td>\n",
              "    </tr>\n",
              "    <tr>\n",
              "      <th>2</th>\n",
              "      <td>2018</td>\n",
              "      <td>1</td>\n",
              "      <td>3</td>\n",
              "      <td>1000840</td>\n",
              "      <td>0.827707</td>\n",
              "      <td>0.491383</td>\n",
              "      <td>0.799255</td>\n",
              "      <td>0.715779</td>\n",
              "      <td>0.266084</td>\n",
              "      <td>0.45874</td>\n",
              "      <td>0.478603</td>\n",
              "      <td>0.986654</td>\n",
              "      <td>0.545117</td>\n",
              "    </tr>\n",
              "    <tr>\n",
              "      <th>3</th>\n",
              "      <td>2018</td>\n",
              "      <td>1</td>\n",
              "      <td>4</td>\n",
              "      <td>1000840</td>\n",
              "      <td>0.836255</td>\n",
              "      <td>0.503421</td>\n",
              "      <td>0.799255</td>\n",
              "      <td>0.715779</td>\n",
              "      <td>0.266084</td>\n",
              "      <td>0.45874</td>\n",
              "      <td>0.478603</td>\n",
              "      <td>0.984323</td>\n",
              "      <td>0.534703</td>\n",
              "    </tr>\n",
              "    <tr>\n",
              "      <th>4</th>\n",
              "      <td>2018</td>\n",
              "      <td>1</td>\n",
              "      <td>5</td>\n",
              "      <td>1000840</td>\n",
              "      <td>0.840427</td>\n",
              "      <td>0.509297</td>\n",
              "      <td>0.799255</td>\n",
              "      <td>0.715779</td>\n",
              "      <td>0.266084</td>\n",
              "      <td>0.45874</td>\n",
              "      <td>0.478603</td>\n",
              "      <td>0.981813</td>\n",
              "      <td>0.546852</td>\n",
              "    </tr>\n",
              "  </tbody>\n",
              "</table>\n",
              "</div>\n",
              "      <button class=\"colab-df-convert\" onclick=\"convertToInteractive('df-bd322a44-0fdf-436d-9fdc-854302c61869')\"\n",
              "              title=\"Convert this dataframe to an interactive table.\"\n",
              "              style=\"display:none;\">\n",
              "        \n",
              "  <svg xmlns=\"http://www.w3.org/2000/svg\" height=\"24px\"viewBox=\"0 0 24 24\"\n",
              "       width=\"24px\">\n",
              "    <path d=\"M0 0h24v24H0V0z\" fill=\"none\"/>\n",
              "    <path d=\"M18.56 5.44l.94 2.06.94-2.06 2.06-.94-2.06-.94-.94-2.06-.94 2.06-2.06.94zm-11 1L8.5 8.5l.94-2.06 2.06-.94-2.06-.94L8.5 2.5l-.94 2.06-2.06.94zm10 10l.94 2.06.94-2.06 2.06-.94-2.06-.94-.94-2.06-.94 2.06-2.06.94z\"/><path d=\"M17.41 7.96l-1.37-1.37c-.4-.4-.92-.59-1.43-.59-.52 0-1.04.2-1.43.59L10.3 9.45l-7.72 7.72c-.78.78-.78 2.05 0 2.83L4 21.41c.39.39.9.59 1.41.59.51 0 1.02-.2 1.41-.59l7.78-7.78 2.81-2.81c.8-.78.8-2.07 0-2.86zM5.41 20L4 18.59l7.72-7.72 1.47 1.35L5.41 20z\"/>\n",
              "  </svg>\n",
              "      </button>\n",
              "      \n",
              "  <style>\n",
              "    .colab-df-container {\n",
              "      display:flex;\n",
              "      flex-wrap:wrap;\n",
              "      gap: 12px;\n",
              "    }\n",
              "\n",
              "    .colab-df-convert {\n",
              "      background-color: #E8F0FE;\n",
              "      border: none;\n",
              "      border-radius: 50%;\n",
              "      cursor: pointer;\n",
              "      display: none;\n",
              "      fill: #1967D2;\n",
              "      height: 32px;\n",
              "      padding: 0 0 0 0;\n",
              "      width: 32px;\n",
              "    }\n",
              "\n",
              "    .colab-df-convert:hover {\n",
              "      background-color: #E2EBFA;\n",
              "      box-shadow: 0px 1px 2px rgba(60, 64, 67, 0.3), 0px 1px 3px 1px rgba(60, 64, 67, 0.15);\n",
              "      fill: #174EA6;\n",
              "    }\n",
              "\n",
              "    [theme=dark] .colab-df-convert {\n",
              "      background-color: #3B4455;\n",
              "      fill: #D2E3FC;\n",
              "    }\n",
              "\n",
              "    [theme=dark] .colab-df-convert:hover {\n",
              "      background-color: #434B5C;\n",
              "      box-shadow: 0px 1px 3px 1px rgba(0, 0, 0, 0.15);\n",
              "      filter: drop-shadow(0px 1px 2px rgba(0, 0, 0, 0.3));\n",
              "      fill: #FFFFFF;\n",
              "    }\n",
              "  </style>\n",
              "\n",
              "      <script>\n",
              "        const buttonEl =\n",
              "          document.querySelector('#df-bd322a44-0fdf-436d-9fdc-854302c61869 button.colab-df-convert');\n",
              "        buttonEl.style.display =\n",
              "          google.colab.kernel.accessAllowed ? 'block' : 'none';\n",
              "\n",
              "        async function convertToInteractive(key) {\n",
              "          const element = document.querySelector('#df-bd322a44-0fdf-436d-9fdc-854302c61869');\n",
              "          const dataTable =\n",
              "            await google.colab.kernel.invokeFunction('convertToInteractive',\n",
              "                                                     [key], {});\n",
              "          if (!dataTable) return;\n",
              "\n",
              "          const docLinkHtml = 'Like what you see? Visit the ' +\n",
              "            '<a target=\"_blank\" href=https://colab.research.google.com/notebooks/data_table.ipynb>data table notebook</a>'\n",
              "            + ' to learn more about interactive tables.';\n",
              "          element.innerHTML = '';\n",
              "          dataTable['output_type'] = 'display_data';\n",
              "          await google.colab.output.renderOutput(dataTable, element);\n",
              "          const docLink = document.createElement('div');\n",
              "          docLink.innerHTML = docLinkHtml;\n",
              "          element.appendChild(docLink);\n",
              "        }\n",
              "      </script>\n",
              "    </div>\n",
              "  </div>\n",
              "  "
            ]
          },
          "metadata": {},
          "execution_count": 274
        }
      ]
    },
    {
      "cell_type": "code",
      "source": [
        "validation_df.head()"
      ],
      "metadata": {
        "colab": {
          "base_uri": "https://localhost:8080/",
          "height": 250
        },
        "id": "9UXf_WI8UkvS",
        "outputId": "b9549655-09b4-4390-d0bf-5f1e5accc651"
      },
      "execution_count": 275,
      "outputs": [
        {
          "output_type": "execute_result",
          "data": {
            "text/plain": [
              "     year  month  day   dep_id       sza       lst   popdens  ESArivers  \\\n",
              "255  2018      9   13  1000840  0.619422  0.753333  0.799255   0.715779   \n",
              "256  2018      9   14  1000840  0.634232  0.633018  0.799255   0.715779   \n",
              "257  2018      9   15  1000840  0.628489  0.624929  0.799255   0.715779   \n",
              "258  2018      9   16  1000840  0.614395  0.605080  0.799255   0.715779   \n",
              "259  2018      9   17  1000840  0.583596  0.561705  0.799255   0.715779   \n",
              "\n",
              "     slope_500m  elevation_500m  ImprSuf_SP  daylength  temp_mean75  \n",
              "255    0.266084         0.45874    0.478603   0.413024     0.380361  \n",
              "256    0.266084         0.45874    0.478603   0.420690     0.330264  \n",
              "257    0.266084         0.45874    0.478603   0.428374     0.382199  \n",
              "258    0.266084         0.45874    0.478603   0.436073     0.330029  \n",
              "259    0.266084         0.45874    0.478603   0.443788     0.339856  "
            ],
            "text/html": [
              "\n",
              "  <div id=\"df-b5720069-7cfc-47f1-abd4-92fa6847cef8\">\n",
              "    <div class=\"colab-df-container\">\n",
              "      <div>\n",
              "<style scoped>\n",
              "    .dataframe tbody tr th:only-of-type {\n",
              "        vertical-align: middle;\n",
              "    }\n",
              "\n",
              "    .dataframe tbody tr th {\n",
              "        vertical-align: top;\n",
              "    }\n",
              "\n",
              "    .dataframe thead th {\n",
              "        text-align: right;\n",
              "    }\n",
              "</style>\n",
              "<table border=\"1\" class=\"dataframe\">\n",
              "  <thead>\n",
              "    <tr style=\"text-align: right;\">\n",
              "      <th></th>\n",
              "      <th>year</th>\n",
              "      <th>month</th>\n",
              "      <th>day</th>\n",
              "      <th>dep_id</th>\n",
              "      <th>sza</th>\n",
              "      <th>lst</th>\n",
              "      <th>popdens</th>\n",
              "      <th>ESArivers</th>\n",
              "      <th>slope_500m</th>\n",
              "      <th>elevation_500m</th>\n",
              "      <th>ImprSuf_SP</th>\n",
              "      <th>daylength</th>\n",
              "      <th>temp_mean75</th>\n",
              "    </tr>\n",
              "  </thead>\n",
              "  <tbody>\n",
              "    <tr>\n",
              "      <th>255</th>\n",
              "      <td>2018</td>\n",
              "      <td>9</td>\n",
              "      <td>13</td>\n",
              "      <td>1000840</td>\n",
              "      <td>0.619422</td>\n",
              "      <td>0.753333</td>\n",
              "      <td>0.799255</td>\n",
              "      <td>0.715779</td>\n",
              "      <td>0.266084</td>\n",
              "      <td>0.45874</td>\n",
              "      <td>0.478603</td>\n",
              "      <td>0.413024</td>\n",
              "      <td>0.380361</td>\n",
              "    </tr>\n",
              "    <tr>\n",
              "      <th>256</th>\n",
              "      <td>2018</td>\n",
              "      <td>9</td>\n",
              "      <td>14</td>\n",
              "      <td>1000840</td>\n",
              "      <td>0.634232</td>\n",
              "      <td>0.633018</td>\n",
              "      <td>0.799255</td>\n",
              "      <td>0.715779</td>\n",
              "      <td>0.266084</td>\n",
              "      <td>0.45874</td>\n",
              "      <td>0.478603</td>\n",
              "      <td>0.420690</td>\n",
              "      <td>0.330264</td>\n",
              "    </tr>\n",
              "    <tr>\n",
              "      <th>257</th>\n",
              "      <td>2018</td>\n",
              "      <td>9</td>\n",
              "      <td>15</td>\n",
              "      <td>1000840</td>\n",
              "      <td>0.628489</td>\n",
              "      <td>0.624929</td>\n",
              "      <td>0.799255</td>\n",
              "      <td>0.715779</td>\n",
              "      <td>0.266084</td>\n",
              "      <td>0.45874</td>\n",
              "      <td>0.478603</td>\n",
              "      <td>0.428374</td>\n",
              "      <td>0.382199</td>\n",
              "    </tr>\n",
              "    <tr>\n",
              "      <th>258</th>\n",
              "      <td>2018</td>\n",
              "      <td>9</td>\n",
              "      <td>16</td>\n",
              "      <td>1000840</td>\n",
              "      <td>0.614395</td>\n",
              "      <td>0.605080</td>\n",
              "      <td>0.799255</td>\n",
              "      <td>0.715779</td>\n",
              "      <td>0.266084</td>\n",
              "      <td>0.45874</td>\n",
              "      <td>0.478603</td>\n",
              "      <td>0.436073</td>\n",
              "      <td>0.330029</td>\n",
              "    </tr>\n",
              "    <tr>\n",
              "      <th>259</th>\n",
              "      <td>2018</td>\n",
              "      <td>9</td>\n",
              "      <td>17</td>\n",
              "      <td>1000840</td>\n",
              "      <td>0.583596</td>\n",
              "      <td>0.561705</td>\n",
              "      <td>0.799255</td>\n",
              "      <td>0.715779</td>\n",
              "      <td>0.266084</td>\n",
              "      <td>0.45874</td>\n",
              "      <td>0.478603</td>\n",
              "      <td>0.443788</td>\n",
              "      <td>0.339856</td>\n",
              "    </tr>\n",
              "  </tbody>\n",
              "</table>\n",
              "</div>\n",
              "      <button class=\"colab-df-convert\" onclick=\"convertToInteractive('df-b5720069-7cfc-47f1-abd4-92fa6847cef8')\"\n",
              "              title=\"Convert this dataframe to an interactive table.\"\n",
              "              style=\"display:none;\">\n",
              "        \n",
              "  <svg xmlns=\"http://www.w3.org/2000/svg\" height=\"24px\"viewBox=\"0 0 24 24\"\n",
              "       width=\"24px\">\n",
              "    <path d=\"M0 0h24v24H0V0z\" fill=\"none\"/>\n",
              "    <path d=\"M18.56 5.44l.94 2.06.94-2.06 2.06-.94-2.06-.94-.94-2.06-.94 2.06-2.06.94zm-11 1L8.5 8.5l.94-2.06 2.06-.94-2.06-.94L8.5 2.5l-.94 2.06-2.06.94zm10 10l.94 2.06.94-2.06 2.06-.94-2.06-.94-.94-2.06-.94 2.06-2.06.94z\"/><path d=\"M17.41 7.96l-1.37-1.37c-.4-.4-.92-.59-1.43-.59-.52 0-1.04.2-1.43.59L10.3 9.45l-7.72 7.72c-.78.78-.78 2.05 0 2.83L4 21.41c.39.39.9.59 1.41.59.51 0 1.02-.2 1.41-.59l7.78-7.78 2.81-2.81c.8-.78.8-2.07 0-2.86zM5.41 20L4 18.59l7.72-7.72 1.47 1.35L5.41 20z\"/>\n",
              "  </svg>\n",
              "      </button>\n",
              "      \n",
              "  <style>\n",
              "    .colab-df-container {\n",
              "      display:flex;\n",
              "      flex-wrap:wrap;\n",
              "      gap: 12px;\n",
              "    }\n",
              "\n",
              "    .colab-df-convert {\n",
              "      background-color: #E8F0FE;\n",
              "      border: none;\n",
              "      border-radius: 50%;\n",
              "      cursor: pointer;\n",
              "      display: none;\n",
              "      fill: #1967D2;\n",
              "      height: 32px;\n",
              "      padding: 0 0 0 0;\n",
              "      width: 32px;\n",
              "    }\n",
              "\n",
              "    .colab-df-convert:hover {\n",
              "      background-color: #E2EBFA;\n",
              "      box-shadow: 0px 1px 2px rgba(60, 64, 67, 0.3), 0px 1px 3px 1px rgba(60, 64, 67, 0.15);\n",
              "      fill: #174EA6;\n",
              "    }\n",
              "\n",
              "    [theme=dark] .colab-df-convert {\n",
              "      background-color: #3B4455;\n",
              "      fill: #D2E3FC;\n",
              "    }\n",
              "\n",
              "    [theme=dark] .colab-df-convert:hover {\n",
              "      background-color: #434B5C;\n",
              "      box-shadow: 0px 1px 3px 1px rgba(0, 0, 0, 0.15);\n",
              "      filter: drop-shadow(0px 1px 2px rgba(0, 0, 0, 0.3));\n",
              "      fill: #FFFFFF;\n",
              "    }\n",
              "  </style>\n",
              "\n",
              "      <script>\n",
              "        const buttonEl =\n",
              "          document.querySelector('#df-b5720069-7cfc-47f1-abd4-92fa6847cef8 button.colab-df-convert');\n",
              "        buttonEl.style.display =\n",
              "          google.colab.kernel.accessAllowed ? 'block' : 'none';\n",
              "\n",
              "        async function convertToInteractive(key) {\n",
              "          const element = document.querySelector('#df-b5720069-7cfc-47f1-abd4-92fa6847cef8');\n",
              "          const dataTable =\n",
              "            await google.colab.kernel.invokeFunction('convertToInteractive',\n",
              "                                                     [key], {});\n",
              "          if (!dataTable) return;\n",
              "\n",
              "          const docLinkHtml = 'Like what you see? Visit the ' +\n",
              "            '<a target=\"_blank\" href=https://colab.research.google.com/notebooks/data_table.ipynb>data table notebook</a>'\n",
              "            + ' to learn more about interactive tables.';\n",
              "          element.innerHTML = '';\n",
              "          dataTable['output_type'] = 'display_data';\n",
              "          await google.colab.output.renderOutput(dataTable, element);\n",
              "          const docLink = document.createElement('div');\n",
              "          docLink.innerHTML = docLinkHtml;\n",
              "          element.appendChild(docLink);\n",
              "        }\n",
              "      </script>\n",
              "    </div>\n",
              "  </div>\n",
              "  "
            ]
          },
          "metadata": {},
          "execution_count": 275
        }
      ]
    },
    {
      "cell_type": "markdown",
      "source": [
        "Here we imported into Google Colab the datasetHandler.py file that Alessandro and Raquel created. This object will handle all the operations needed to create, reshape and augment the training and validation dataset to fit the requirements of each Deep Learning or Machine Learning model."
      ],
      "metadata": {
        "id": "W7ZWAidmyZz3"
      }
    },
    {
      "cell_type": "code",
      "source": [
        "from datasetHandler import datasetHandler\n",
        "dataset_handler = datasetHandler(training_df, validation_df)"
      ],
      "metadata": {
        "id": "W7f_RlwqW2Nm"
      },
      "execution_count": 237,
      "outputs": []
    },
    {
      "cell_type": "markdown",
      "source": [
        "Transform training and validation datasets into vectors using the get data function from within the datasetHandler.py\n",
        "\n",
        "get_data(t_window_size, t_prediction)\n",
        "where t_window_size refers to \n",
        "and t_prediction refers to "
      ],
      "metadata": {
        "id": "eJloq0C4yoaP"
      }
    },
    {
      "cell_type": "code",
      "source": [
        "# Rename to keep similar format as Alessandro\n",
        "training = training_df\n",
        "validation = validation_df"
      ],
      "metadata": {
        "id": "BnHLv8tuym4M"
      },
      "execution_count": 279,
      "outputs": []
    },
    {
      "cell_type": "code",
      "source": [
        "#define the moving window for data agumentation (they used 12 months for their monthly dataset...)\n",
        "t_window_size=12\n",
        "t_prediction=1"
      ],
      "metadata": {
        "id": "N_d0F4qA5kNV"
      },
      "execution_count": 300,
      "outputs": []
    },
    {
      "cell_type": "code",
      "source": [
        "#Get first department from TRAINING DATASET and check data dimensions\n",
        "stations = pd.unique(training.dep_id)\n",
        "db_dep = training[training.dep_id == stations[0]]\n",
        "len_series = db_dep.shape[0] - (t_window_size)\n",
        "print(\"Length series: \", len_series, \"Stations number: \",len(stations))\n",
        "\n",
        "# Create an empty x and y for the array with the corret dimensions\n",
        "## np.zeros() --> Return a new array of given shape and type, filled with zeros. \n",
        "## The content is: number or rows,samples,  number of columns)\n",
        "x_train = np.zeros((len_series*len(stations), t_window_size, training.shape[1]))\n",
        "y_train = np.zeros((len_series*len(stations), t_prediction))\n",
        "print('X Training shape', x_train.shape) #This is now a numpy array\n",
        "print('Y Training shape', y_train.shape) #This is now a numpy array\n"
      ],
      "metadata": {
        "colab": {
          "base_uri": "https://localhost:8080/"
        },
        "id": "zAu7z11S4r7o",
        "outputId": "f2f09167-505f-43ef-b0d4-3fb9033ec367"
      },
      "execution_count": 358,
      "outputs": [
        {
          "output_type": "stream",
          "name": "stdout",
          "text": [
            "Length series:  237 Stations number:  51\n",
            "X Training shape (12087, 12, 13)\n",
            "Y Training shape (12087, 1)\n"
          ]
        }
      ]
    },
    {
      "cell_type": "code",
      "source": [
        "x_train[0:7,0:5,0:3]"
      ],
      "metadata": {
        "colab": {
          "base_uri": "https://localhost:8080/"
        },
        "id": "4hT6t7qWTQH6",
        "outputId": "5b403627-0071-4b86-9537-21616262c83b"
      },
      "execution_count": 359,
      "outputs": [
        {
          "output_type": "execute_result",
          "data": {
            "text/plain": [
              "array([[[0., 0., 0.],\n",
              "        [0., 0., 0.],\n",
              "        [0., 0., 0.],\n",
              "        [0., 0., 0.],\n",
              "        [0., 0., 0.]],\n",
              "\n",
              "       [[0., 0., 0.],\n",
              "        [0., 0., 0.],\n",
              "        [0., 0., 0.],\n",
              "        [0., 0., 0.],\n",
              "        [0., 0., 0.]],\n",
              "\n",
              "       [[0., 0., 0.],\n",
              "        [0., 0., 0.],\n",
              "        [0., 0., 0.],\n",
              "        [0., 0., 0.],\n",
              "        [0., 0., 0.]],\n",
              "\n",
              "       [[0., 0., 0.],\n",
              "        [0., 0., 0.],\n",
              "        [0., 0., 0.],\n",
              "        [0., 0., 0.],\n",
              "        [0., 0., 0.]],\n",
              "\n",
              "       [[0., 0., 0.],\n",
              "        [0., 0., 0.],\n",
              "        [0., 0., 0.],\n",
              "        [0., 0., 0.],\n",
              "        [0., 0., 0.]],\n",
              "\n",
              "       [[0., 0., 0.],\n",
              "        [0., 0., 0.],\n",
              "        [0., 0., 0.],\n",
              "        [0., 0., 0.],\n",
              "        [0., 0., 0.]],\n",
              "\n",
              "       [[0., 0., 0.],\n",
              "        [0., 0., 0.],\n",
              "        [0., 0., 0.],\n",
              "        [0., 0., 0.],\n",
              "        [0., 0., 0.]]])"
            ]
          },
          "metadata": {},
          "execution_count": 359
        }
      ]
    },
    {
      "cell_type": "code",
      "source": [
        "y_train[0:4,...]"
      ],
      "metadata": {
        "colab": {
          "base_uri": "https://localhost:8080/"
        },
        "id": "3igEra4iTiXp",
        "outputId": "47fc925c-31bb-4b76-fef6-1464324b0ec9"
      },
      "execution_count": 326,
      "outputs": [
        {
          "output_type": "execute_result",
          "data": {
            "text/plain": [
              "array([[0., 0.],\n",
              "       [0., 0.],\n",
              "       [0., 0.],\n",
              "       [0., 0.]])"
            ]
          },
          "metadata": {},
          "execution_count": 326
        }
      ]
    },
    {
      "cell_type": "code",
      "source": [
        "data[0:2,1:]"
      ],
      "metadata": {
        "colab": {
          "base_uri": "https://localhost:8080/"
        },
        "id": "8_788rfZWGXi",
        "outputId": "5d6eca9b-1a96-439c-c1e8-727cf29ce12d"
      },
      "execution_count": 355,
      "outputs": [
        {
          "output_type": "execute_result",
          "data": {
            "text/plain": [
              "array([[1, 1, '1000840', 0.8517129099406928, 0.5251900800384318,\n",
              "        0.7992547885160707, 0.7157789287330905, 0.26608406717999555,\n",
              "        0.45874005170314447, 0.47860318785422173, 0.9907671963300897,\n",
              "        0.6472646431955067],\n",
              "       [1, 2, '1000840', 0.8524122301326326, 0.5261749427186495,\n",
              "        0.7992547885160707, 0.7157789287330905, 0.26608406717999555,\n",
              "        0.45874005170314447, 0.47860318785422173, 0.9888022345613867,\n",
              "        0.6556063417690419]], dtype=object)"
            ]
          },
          "metadata": {},
          "execution_count": 355
        }
      ]
    },
    {
      "cell_type": "code",
      "source": [
        "test=x_train[0, ...] = data[225 : (225)+12, :]\n",
        "test"
      ],
      "metadata": {
        "colab": {
          "base_uri": "https://localhost:8080/",
          "height": 183
        },
        "id": "Jmb7ZVmUWXhp",
        "outputId": "5433abbb-9bd0-4970-dbd1-af9ed1f4b889"
      },
      "execution_count": 373,
      "outputs": [
        {
          "output_type": "error",
          "ename": "ValueError",
          "evalue": "ignored",
          "traceback": [
            "\u001b[0;31m---------------------------------------------------------------------------\u001b[0m",
            "\u001b[0;31mValueError\u001b[0m                                Traceback (most recent call last)",
            "\u001b[0;32m<ipython-input-373-515371b0c592>\u001b[0m in \u001b[0;36m<module>\u001b[0;34m\u001b[0m\n\u001b[0;32m----> 1\u001b[0;31m \u001b[0mtest\u001b[0m\u001b[0;34m=\u001b[0m\u001b[0mx_train\u001b[0m\u001b[0;34m[\u001b[0m\u001b[0;36m0\u001b[0m\u001b[0;34m,\u001b[0m \u001b[0;34m...\u001b[0m\u001b[0;34m]\u001b[0m \u001b[0;34m=\u001b[0m \u001b[0mdata\u001b[0m\u001b[0;34m[\u001b[0m\u001b[0;36m225\u001b[0m \u001b[0;34m:\u001b[0m \u001b[0;34m(\u001b[0m\u001b[0;36m225\u001b[0m\u001b[0;34m)\u001b[0m\u001b[0;34m+\u001b[0m\u001b[0;36m12\u001b[0m\u001b[0;34m,\u001b[0m \u001b[0;34m:\u001b[0m\u001b[0;34m]\u001b[0m\u001b[0;34m\u001b[0m\u001b[0;34m\u001b[0m\u001b[0m\n\u001b[0m\u001b[1;32m      2\u001b[0m \u001b[0mtest\u001b[0m\u001b[0;34m\u001b[0m\u001b[0;34m\u001b[0m\u001b[0m\n",
            "\u001b[0;31mValueError\u001b[0m: could not broadcast input array from shape (9,13) into shape (12,13)"
          ]
        }
      ]
    },
    {
      "cell_type": "code",
      "source": [
        " test=y_train[0, ..., 1:] = data[(0 + 12) : (0 + 12 + 1), -1]\n",
        " test"
      ],
      "metadata": {
        "colab": {
          "base_uri": "https://localhost:8080/"
        },
        "id": "zZa4k3I-WXnl",
        "outputId": "9f4a65bc-a647-49b5-95f3-3e078163db35"
      },
      "execution_count": 349,
      "outputs": [
        {
          "output_type": "execute_result",
          "data": {
            "text/plain": [
              "array([0.6647345800496136], dtype=object)"
            ]
          },
          "metadata": {},
          "execution_count": 349
        }
      ]
    },
    {
      "cell_type": "code",
      "source": [
        "data"
      ],
      "metadata": {
        "colab": {
          "base_uri": "https://localhost:8080/"
        },
        "id": "cmIRpLswW6hJ",
        "outputId": "6a1e64ec-5c65-4bd0-b4bf-810aa3bb4500"
      },
      "execution_count": 357,
      "outputs": [
        {
          "output_type": "execute_result",
          "data": {
            "text/plain": [
              "array([[2018, 1, 15, '1000840', 0.8950295413527044, 0.5861935148057074,\n",
              "        0.7992547885160707, 0.7157789287330905, 0.26608406717999555,\n",
              "        0.45874005170314447, 0.47860318785422173, 0.947368452715449,\n",
              "        0.6647345800496136]], dtype=object)"
            ]
          },
          "metadata": {},
          "execution_count": 357
        }
      ]
    },
    {
      "cell_type": "markdown",
      "source": [],
      "metadata": {
        "id": "SJgwmqv4WGHf"
      }
    },
    {
      "cell_type": "code",
      "source": [
        "# Fill the training set\n",
        "counter = 0\n",
        "#for count, sta in enumerate(stations):\n",
        "    db_dep = training[training.dep_id == \"1000840\"]\n",
        "    data = db_dep.to_numpy()\n",
        "    data\n",
        "    print('\\rProcessing departments {} of {}'.format(count, len(stations)), end='\\t\\t')\n",
        "   \n",
        "    for count2 in range(len_series):\n",
        "                x_train[counter, ...] = data[count2 : (count2)+t_window_size, :]\n",
        "               # y_train[counter, ..., :t_prediction] = data[(count2 + t_window_size) : (count2 + t_window_size + t_prediction), -2]\n",
        "               # y_train[counter, ..., t_prediction:] = data[(count2 + t_window_size) : (count2 + t_window_size + t_prediction), -1]\n",
        "                counter+1\n",
        "\n"
      ],
      "metadata": {
        "colab": {
          "base_uri": "https://localhost:8080/",
          "height": 130
        },
        "id": "VXBNASmPEbpQ",
        "outputId": "9faffc97-68ae-4bb2-f549-47601bb4e290"
      },
      "execution_count": 381,
      "outputs": [
        {
          "output_type": "error",
          "ename": "IndentationError",
          "evalue": "ignored",
          "traceback": [
            "\u001b[0;36m  File \u001b[0;32m\"<ipython-input-381-00c98507f862>\"\u001b[0;36m, line \u001b[0;32m4\u001b[0m\n\u001b[0;31m    db_dep = training[training.dep_id == \"1000840\"]\u001b[0m\n\u001b[0m    ^\u001b[0m\n\u001b[0;31mIndentationError\u001b[0m\u001b[0;31m:\u001b[0m unexpected indent\n"
          ]
        }
      ]
    },
    {
      "cell_type": "code",
      "source": [
        "db_dep = training[training.dep_id == \"1000840\"]\n",
        "data = db_dep.to_numpy()\n",
        "print('\\rProcessing stations {} of {}'.format(count, len(stations)), end='\\t\\t')\n",
        "   \n",
        "for count2 in range(len_series):\n",
        "    x_train[counter, ...] = data[count2 : (count2)+t_window_size,]\n",
        "               # y_train[counter, ..., :t_prediction] = data[(count2 + t_window_size) : (count2 + t_window_size + t_prediction), -2]\n",
        "               # y_train[counter, ..., t_prediction:] = data[(count2 + t_window_size) : (count2 + t_window_size + t_prediction), -1]\n",
        "    counter+1\n",
        "\n"
      ],
      "metadata": {
        "colab": {
          "base_uri": "https://localhost:8080/"
        },
        "id": "PQuwlMp7a91W",
        "outputId": "77af0a16-5ebd-427b-eaab-8069439ce94e"
      },
      "execution_count": 392,
      "outputs": [
        {
          "output_type": "stream",
          "name": "stdout",
          "text": [
            "Processing stations 4 of 51\t\t"
          ]
        }
      ]
    },
    {
      "cell_type": "code",
      "source": [
        " test=x_train[counter, ...] = data[12:12+12,]\n",
        " test"
      ],
      "metadata": {
        "id": "HrWEp69GcOe0",
        "outputId": "1195f41e-5c78-4d1e-b6b4-f63e4bcbc5b1",
        "colab": {
          "base_uri": "https://localhost:8080/"
        }
      },
      "execution_count": 397,
      "outputs": [
        {
          "output_type": "execute_result",
          "data": {
            "text/plain": [
              "array([[2018, 1, 15, '1000840', 0.8950295413527044, 0.5861935148057074,\n",
              "        0.7992547885160707, 0.7157789287330905, 0.26608406717999555,\n",
              "        0.45874005170314447, 0.47860318785422173, 0.947368452715449,\n",
              "        0.6647345800496136],\n",
              "       [2018, 1, 16, '1000840', 0.907282347767812, 0.603449318234891,\n",
              "        0.7992547885160707, 0.7157789287330905, 0.26608406717999555,\n",
              "        0.45874005170314447, 0.47860318785422173, 0.9430511234867092,\n",
              "        0.6474207218746362],\n",
              "       [2018, 1, 17, '1000840', 0.8509450309892796, 0.6490024953492642,\n",
              "        0.7992547885160707, 0.7157789287330905, 0.26608406717999555,\n",
              "        0.45874005170314447, 0.47860318785422173, 0.9385874453982063,\n",
              "        0.6536104964784648],\n",
              "       [2018, 1, 18, '1000840', 0.860255992813406, 0.6621152567469841,\n",
              "        0.7992547885160707, 0.7157789287330905, 0.26608406717999555,\n",
              "        0.45874005170314447, 0.47860318785422173, 0.9339807211734054,\n",
              "        0.7446006159052798],\n",
              "       [2018, 1, 19, '1000840', 0.8556294311574018, 0.6555996034521949,\n",
              "        0.7992547885160707, 0.7157789287330905, 0.26608406717999555,\n",
              "        0.45874005170314447, 0.47860318785422173, 0.9292342985157613,\n",
              "        0.6239595864489464],\n",
              "       [2018, 1, 20, '1000840', 0.8112417161876913, 0.5930877463119769,\n",
              "        0.7992547885160707, 0.7157789287330905, 0.26608406717999555,\n",
              "        0.45874005170314447, 0.47860318785422173, 0.924351562748181,\n",
              "        0.5783745146322374],\n",
              "       [2018, 1, 21, '1000840', 0.860898513119714, 0.6630201273316724,\n",
              "        0.7992547885160707, 0.7157789287330905, 0.26608406717999555,\n",
              "        0.45874005170314447, 0.47860318785422173, 0.9193359296182234,\n",
              "        0.6098640372718778],\n",
              "       [2018, 1, 22, '1000840', 0.874066803862952, 0.6815652205017955,\n",
              "        0.7992547885160707, 0.7157789287330905, 0.26608406717999555,\n",
              "        0.45874005170314447, 0.47860318785422173, 0.9141908382937156,\n",
              "        0.6727744194723639],\n",
              "       [2018, 1, 23, '1000840', 0.895901393956896, 0.7123151876402086,\n",
              "        0.7992547885160707, 0.7157789287330905, 0.26608406717999555,\n",
              "        0.45874005170314447, 0.47860318785422173, 0.9089197445709915,\n",
              "        0.6611790141646425],\n",
              "       [2018, 1, 24, '1000840', 0.8946758796244259, 0.7105892781869525,\n",
              "        0.7992547885160707, 0.7157789287330905, 0.26608406717999555,\n",
              "        0.45874005170314447, 0.47860318785422173, 0.9035261143157179,\n",
              "        0.7034070961286305],\n",
              "       [2018, 1, 25, '1000840', 0.8527130978293369, 0.651492489299064,\n",
              "        0.7992547885160707, 0.7157789287330905, 0.26608406717999555,\n",
              "        0.45874005170314447, 0.47860318785422173, 0.8980134171542095,\n",
              "        0.6300304989163608],\n",
              "       [2018, 1, 26, '1000840', 0.801386968487033, 0.5792091634464968,\n",
              "        0.7992547885160707, 0.7157789287330905, 0.26608406717999555,\n",
              "        0.45874005170314447, 0.47860318785422173, 0.8923851204297524,\n",
              "        0.5009586242841866]], dtype=object)"
            ]
          },
          "metadata": {},
          "execution_count": 397
        }
      ]
    },
    {
      "cell_type": "code",
      "source": [
        "x_train"
      ],
      "metadata": {
        "colab": {
          "base_uri": "https://localhost:8080/"
        },
        "id": "QtOheVOBYviU",
        "outputId": "eb210812-b7e3-47b7-fda8-4e06784350ff"
      },
      "execution_count": 388,
      "outputs": [
        {
          "output_type": "execute_result",
          "data": {
            "text/plain": [
              "array([[[2.01800000e+03, 8.00000000e+00, 3.10000000e+01, ...,\n",
              "         4.78603188e-01, 3.15472648e-01, 5.92757122e-01],\n",
              "        [2.01800000e+03, 9.00000000e+00, 1.00000000e+00, ...,\n",
              "         4.78603188e-01, 3.22805075e-01, 5.27130797e-01],\n",
              "        [2.01800000e+03, 9.00000000e+00, 2.00000000e+00, ...,\n",
              "         4.78603188e-01, 3.30170914e-01, 5.08989608e-01],\n",
              "        ...,\n",
              "        [2.01800000e+03, 9.00000000e+00, 9.00000000e+00, ...,\n",
              "         4.78603188e-01, 3.82554676e-01, 3.09891491e-01],\n",
              "        [2.01800000e+03, 9.00000000e+00, 1.00000000e+01, ...,\n",
              "         4.78603188e-01, 3.90140298e-01, 3.39502876e-01],\n",
              "        [2.01800000e+03, 9.00000000e+00, 1.10000000e+01, ...,\n",
              "         4.78603188e-01, 3.97747813e-01, 3.24794088e-01]],\n",
              "\n",
              "       [[2.01800000e+03, 1.00000000e+00, 2.00000000e+00, ...,\n",
              "         4.78603188e-01, 9.88802235e-01, 6.55606342e-01],\n",
              "        [2.01800000e+03, 1.00000000e+00, 3.00000000e+00, ...,\n",
              "         4.78603188e-01, 9.86653660e-01, 5.45117062e-01],\n",
              "        [2.01800000e+03, 1.00000000e+00, 4.00000000e+00, ...,\n",
              "         4.78603188e-01, 9.84323356e-01, 5.34703066e-01],\n",
              "        ...,\n",
              "        [2.01800000e+03, 1.00000000e+00, 1.10000000e+01, ...,\n",
              "         4.78603188e-01, 9.63110224e-01, 5.92730580e-01],\n",
              "        [2.01800000e+03, 1.00000000e+00, 1.20000000e+01, ...,\n",
              "         4.78603188e-01, 9.59410153e-01, 5.67778474e-01],\n",
              "        [2.01800000e+03, 1.00000000e+00, 1.50000000e+01, ...,\n",
              "         4.78603188e-01, 9.47368453e-01, 6.64734580e-01]],\n",
              "\n",
              "       [[2.01800000e+03, 1.00000000e+00, 3.00000000e+00, ...,\n",
              "         4.78603188e-01, 9.86653660e-01, 5.45117062e-01],\n",
              "        [2.01800000e+03, 1.00000000e+00, 4.00000000e+00, ...,\n",
              "         4.78603188e-01, 9.84323356e-01, 5.34703066e-01],\n",
              "        [2.01800000e+03, 1.00000000e+00, 5.00000000e+00, ...,\n",
              "         4.78603188e-01, 9.81813352e-01, 5.46852103e-01],\n",
              "        ...,\n",
              "        [2.01800000e+03, 1.00000000e+00, 1.20000000e+01, ...,\n",
              "         4.78603188e-01, 9.59410153e-01, 5.67778474e-01],\n",
              "        [2.01800000e+03, 1.00000000e+00, 1.50000000e+01, ...,\n",
              "         4.78603188e-01, 9.47368453e-01, 6.64734580e-01],\n",
              "        [2.01800000e+03, 1.00000000e+00, 1.60000000e+01, ...,\n",
              "         4.78603188e-01, 9.43051123e-01, 6.47420722e-01]],\n",
              "\n",
              "       ...,\n",
              "\n",
              "       [[0.00000000e+00, 0.00000000e+00, 0.00000000e+00, ...,\n",
              "         0.00000000e+00, 0.00000000e+00, 0.00000000e+00],\n",
              "        [0.00000000e+00, 0.00000000e+00, 0.00000000e+00, ...,\n",
              "         0.00000000e+00, 0.00000000e+00, 0.00000000e+00],\n",
              "        [0.00000000e+00, 0.00000000e+00, 0.00000000e+00, ...,\n",
              "         0.00000000e+00, 0.00000000e+00, 0.00000000e+00],\n",
              "        ...,\n",
              "        [0.00000000e+00, 0.00000000e+00, 0.00000000e+00, ...,\n",
              "         0.00000000e+00, 0.00000000e+00, 0.00000000e+00],\n",
              "        [0.00000000e+00, 0.00000000e+00, 0.00000000e+00, ...,\n",
              "         0.00000000e+00, 0.00000000e+00, 0.00000000e+00],\n",
              "        [0.00000000e+00, 0.00000000e+00, 0.00000000e+00, ...,\n",
              "         0.00000000e+00, 0.00000000e+00, 0.00000000e+00]],\n",
              "\n",
              "       [[0.00000000e+00, 0.00000000e+00, 0.00000000e+00, ...,\n",
              "         0.00000000e+00, 0.00000000e+00, 0.00000000e+00],\n",
              "        [0.00000000e+00, 0.00000000e+00, 0.00000000e+00, ...,\n",
              "         0.00000000e+00, 0.00000000e+00, 0.00000000e+00],\n",
              "        [0.00000000e+00, 0.00000000e+00, 0.00000000e+00, ...,\n",
              "         0.00000000e+00, 0.00000000e+00, 0.00000000e+00],\n",
              "        ...,\n",
              "        [0.00000000e+00, 0.00000000e+00, 0.00000000e+00, ...,\n",
              "         0.00000000e+00, 0.00000000e+00, 0.00000000e+00],\n",
              "        [0.00000000e+00, 0.00000000e+00, 0.00000000e+00, ...,\n",
              "         0.00000000e+00, 0.00000000e+00, 0.00000000e+00],\n",
              "        [0.00000000e+00, 0.00000000e+00, 0.00000000e+00, ...,\n",
              "         0.00000000e+00, 0.00000000e+00, 0.00000000e+00]],\n",
              "\n",
              "       [[0.00000000e+00, 0.00000000e+00, 0.00000000e+00, ...,\n",
              "         0.00000000e+00, 0.00000000e+00, 0.00000000e+00],\n",
              "        [0.00000000e+00, 0.00000000e+00, 0.00000000e+00, ...,\n",
              "         0.00000000e+00, 0.00000000e+00, 0.00000000e+00],\n",
              "        [0.00000000e+00, 0.00000000e+00, 0.00000000e+00, ...,\n",
              "         0.00000000e+00, 0.00000000e+00, 0.00000000e+00],\n",
              "        ...,\n",
              "        [0.00000000e+00, 0.00000000e+00, 0.00000000e+00, ...,\n",
              "         0.00000000e+00, 0.00000000e+00, 0.00000000e+00],\n",
              "        [0.00000000e+00, 0.00000000e+00, 0.00000000e+00, ...,\n",
              "         0.00000000e+00, 0.00000000e+00, 0.00000000e+00],\n",
              "        [0.00000000e+00, 0.00000000e+00, 0.00000000e+00, ...,\n",
              "         0.00000000e+00, 0.00000000e+00, 0.00000000e+00]]])"
            ]
          },
          "metadata": {},
          "execution_count": 388
        }
      ]
    },
    {
      "cell_type": "code",
      "source": [
        "db_dep = training[training.dep_id == \"1000840\"]\n",
        "db_dep.info()"
      ],
      "metadata": {
        "colab": {
          "base_uri": "https://localhost:8080/"
        },
        "id": "5RrD-NIAQPLc",
        "outputId": "4a63756d-ee5f-4997-9e76-5dc8eff86085"
      },
      "execution_count": 380,
      "outputs": [
        {
          "output_type": "stream",
          "name": "stdout",
          "text": [
            "<class 'pandas.core.frame.DataFrame'>\n",
            "Int64Index: 249 entries, 0 to 254\n",
            "Data columns (total 13 columns):\n",
            " #   Column          Non-Null Count  Dtype  \n",
            "---  ------          --------------  -----  \n",
            " 0   year            249 non-null    int64  \n",
            " 1   month           249 non-null    int64  \n",
            " 2   day             249 non-null    int64  \n",
            " 3   dep_id          249 non-null    object \n",
            " 4   sza             249 non-null    float64\n",
            " 5   lst             249 non-null    float64\n",
            " 6   popdens         249 non-null    float64\n",
            " 7   ESArivers       249 non-null    float64\n",
            " 8   slope_500m      249 non-null    float64\n",
            " 9   elevation_500m  249 non-null    float64\n",
            " 10  ImprSuf_SP      249 non-null    float64\n",
            " 11  daylength       249 non-null    float64\n",
            " 12  temp_mean75     249 non-null    float64\n",
            "dtypes: float64(9), int64(3), object(1)\n",
            "memory usage: 27.2+ KB\n"
          ]
        }
      ]
    },
    {
      "cell_type": "code",
      "source": [
        "\n",
        "            print('\\rProcessing departments {} of {}'.format(count, len(stations)), end='\\t\\t')\n",
        "\n",
        "            for count2 in range(len_series):\n",
        "                x_train[counter, ...] = data[count2 : (count2)+t_window_size, :] #takes row position =count2 and copies it all the way to count2+window (i.e. moving window)\n",
        "                y_train[counter, ..., :t_prediction] = data[(count2 + t_window_size) : (count2 + t_window_size + t_prediction), -2]\n",
        "                y_train[counter, ..., t_prediction:] = data[(count2 + t_window_size) : (count2 + t_window_size + t_prediction), -1]\n",
        "                counter+=1"
      ],
      "metadata": {
        "id": "ek3EbrIHPofo"
      },
      "execution_count": null,
      "outputs": []
    },
    {
      "cell_type": "code",
      "source": [
        "# Get the first department from the VALIDATION DATASET  to asses data dimensions\n",
        "stations = pd.unique(validation.dep_id)\n",
        "db_dep = validation[validation.dep_id == stations[0]]\n",
        "# len_series  = db_dep.shape[0] - (t_window_size + t_prediction)\n",
        "len_series = db_dep.shape[0] - (t_window_size)\n",
        "        \n",
        "# Initialize validation dataset\n",
        "x_val = np.zeros((len_series*len(stations), t_window_size, validation.shape[1]))\n",
        "y_val = np.zeros((len_series*len(stations), 2*t_prediction))\n",
        "print('\\nX Validation shape', x_val.shape)\n",
        "print('Y Validation shape', y_val.shape)\n",
        "\n",
        "counter = 0\n",
        "# Fill the validation set\n",
        "for count, dep in enumerate(stations):\n",
        "    db_dep = validation[validation.dep_id == dep]\n",
        "    data = db_dep.to_numpy()\n",
        "\n",
        "    print('\\rProcessing stations {} of {}'.format(count, len(stations)), end='\\t\\t')\n",
        "\n",
        "    for count2 in range(len_series):\n",
        "      x_val[counter, ...] = data[count2 : (count2)+t_window_size, :]\n",
        "      y_val[counter, ..., :t_prediction] = data[count2 + t_window_size:count2 + t_window_size + t_prediction, -2]\n",
        "      y_val[counter, ..., t_prediction:] = data[count2 + t_window_size:count2 + t_window_size + t_prediction, -1]\n",
        "      counter += 1\n",
        "\n",
        " x_val, y_val"
      ],
      "metadata": {
        "id": "q5235SWsEdz7"
      },
      "execution_count": null,
      "outputs": []
    }
  ]
}